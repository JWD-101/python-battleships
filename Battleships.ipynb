{
 "cells": [
  {
   "cell_type": "code",
   "execution_count": 133,
   "id": "0d80d674-f3b0-4b14-b2b1-44969ed35b67",
   "metadata": {},
   "outputs": [],
   "source": [
    "class GameManager:\n",
    "    \n",
    "    def __init__(self): #setting inital players\n",
    "        self.currentPlayer = player1\n",
    "        self.opponentPlayer = player2\n",
    "        \n",
    "    def switchPlayer(self):\n",
    "        if self.currentPlayer == player1:\n",
    "            self.currentPlayer = player2\n",
    "            self.opponentPlayer = player1\n",
    "        elif self.currentPlayer == player2:\n",
    "            self.currentPlayer = player1\n",
    "            self.opponentPlayer = player2\n",
    "\n",
    "    def allShipPlacement(self, pPlayer):\n",
    "        print(pPlayer.name + \" Ship Placement\")\n",
    "        shipDetails = [\n",
    "            [\" Carrier  \", 5],\n",
    "            [\"Battleship\", 4],\n",
    "            [\" Cruiser  \", 3],\n",
    "            [\"Submarine \", 3],\n",
    "            [\"Destroyer \", 2]\n",
    "        ]\n",
    "        for shipDetail in shipDetails:\n",
    "            shipOrientation = input(str(\"Will the \"+shipDetail[0]+\" (\"+str(shipDetail[1])+\") be placed vertical or horizontal? (V/H)\"))\n",
    "            tempShip = Ship(shipDetail, shipOrientation, pPlayer)\n",
    "            pPlayer.ships.append(tempShip)\n",
    "\n",
    "    def playerRound(self):\n",
    "        print(\"Current player is\", self.currentPlayer.name,'\\n', \"Your board:\")\n",
    "        self.currentPlayer.board.printBoard(self.currentPlayer)\n",
    "        rowToAttack = int(input(\"Please enter an opponents row to attack\")) - 1\n",
    "        columnToAttack = int(input(\"Please enter an opponents column to attack\")) - 1\n",
    "        if type(self.opponentPlayer.board.grid[rowToAttack][columnToAttack]) == Ship:\n",
    "            print(\"Hit\")\n",
    "            self.opponentPlayer.board.grid[rowToAttack][columnToAttack].shipHit()\n",
    "            self.opponentPlayer.board.grid[rowToAttack][columnToAttack] = \"----XX----\"\n",
    "        else:\n",
    "            print(\"No Hit\")\n",
    "\n",
    "        self.opponentPlayer.checkShips()\n",
    "        print(\"------------------------------------\")\n",
    "        return self.opponentPlayer.checkLoss()\n",
    "        "
   ]
  },
  {
   "cell_type": "code",
   "execution_count": 103,
   "id": "3de5dc6a",
   "metadata": {},
   "outputs": [],
   "source": [
    "class Player:\n",
    "\n",
    "    def __init__(self, pNumber): #initialsing player variables\n",
    "        self.board = Board() #creating the board for the players ships\n",
    "        self.name = (\"Player \" + pNumber) #setting the name of player for use in strings\n",
    "        self.ships = [] #array to store ships\n",
    "\n",
    "    def checkShips(self):\n",
    "        for ship in self.ships:\n",
    "            if ship.shipLength == 0:\n",
    "                print(ship.shipType, \"has been sunk!\")\n",
    "                self.ships.remove(ship)\n",
    "\n",
    "    def checkLoss(self):\n",
    "        if (len(self.ships)) == 0:\n",
    "            return True\n",
    "        else:\n",
    "            return False"
   ]
  },
  {
   "cell_type": "code",
   "execution_count": 118,
   "id": "aab51602",
   "metadata": {},
   "outputs": [],
   "source": [
    "class Board:\n",
    "    \n",
    "    def __init__(self): #initialising board variables\n",
    "        self.grid = []\n",
    "        for tempLine in range(0,10):\n",
    "            line = []\n",
    "            for tempCell in range(0, 10): #creating a 10x10 grid of empty strings\n",
    "                line.append(\"          \")\n",
    "            self.grid.append(line) \n",
    "\n",
    "    def printBoard(self, pPlayer):\n",
    "        printGrid = []\n",
    "        for line in range(0,10):\n",
    "            printLine = []\n",
    "            for cell in range(0,10):\n",
    "                if type(pPlayer.board.grid[line][cell]) != Ship:\n",
    "                    printLine.append(pPlayer.board.grid[line][cell])\n",
    "                else:\n",
    "                    printLine.append(pPlayer.board.grid[line][cell].shipType)\n",
    "            printGrid.append(printLine)\n",
    "        for line in printGrid:\n",
    "            print(line)\n"
   ]
  },
  {
   "cell_type": "code",
   "execution_count": 36,
   "id": "20fd7657",
   "metadata": {},
   "outputs": [],
   "source": [
    "class Ship:\n",
    "\n",
    "    def __init__(self, pShipDetail, pShipOrientation, pPlayer):\n",
    "        self.shipType = pShipDetail[0]\n",
    "        self.shipLength = pShipDetail[1]\n",
    "        self.placeShip(pShipOrientation, pPlayer)\n",
    "\n",
    "    def placeShip(self, pShipOrientation, pPlayer):\n",
    "        if pShipOrientation == \"V\":\n",
    "                shipColumn = int(input(\"Which column will the ship be placed in? (1-10)\"))\n",
    "                shipOffset = int(input(\"Which row should the ship start on? (1-10)\"))\n",
    "                for i in range(shipOffset-1,shipOffset+self.shipLength-1):\n",
    "                    pPlayer.board.grid[i][shipColumn-1] = self\n",
    "        elif pShipOrientation == \"H\":\n",
    "                shipRow = int(input(\"Which row will the ship be placed in? (1-10)\"))\n",
    "                shipOffset = int(input(\"Which column should the ship start on? (1-10)\"))\n",
    "                for i in range(shipOffset-1,shipOffset+self.shipLength-1):\n",
    "                    pPlayer.board.grid[shipRow-1][i] = self\n",
    "                    \n",
    "    def shipHit(self):\n",
    "        self.shipLength -= 1\n",
    "            "
   ]
  },
  {
   "cell_type": "code",
   "execution_count": null,
   "id": "1969f9cb",
   "metadata": {
    "editable": true,
    "scrolled": true,
    "slideshow": {
     "slide_type": ""
    },
    "tags": []
   },
   "outputs": [
    {
     "name": "stdout",
     "output_type": "stream",
     "text": [
      "Player 1 Ship Placement\n"
     ]
    },
    {
     "name": "stdin",
     "output_type": "stream",
     "text": [
      "Will the  Carrier   (5) be placed vertical or horizontal? (V/H) V\n",
      "Which column will the ship be placed in? (1-10) 1\n",
      "Which row should the ship start on? (1-10) 1\n",
      "Will the Battleship (4) be placed vertical or horizontal? (V/H) V\n",
      "Which column will the ship be placed in? (1-10) 2\n",
      "Which row should the ship start on? (1-10) 2\n",
      "Will the  Cruiser   (3) be placed vertical or horizontal? (V/H) V\n",
      "Which column will the ship be placed in? (1-10) 3\n",
      "Which row should the ship start on? (1-10) 3\n",
      "Will the Submarine  (3) be placed vertical or horizontal? (V/H) V\n",
      "Which column will the ship be placed in? (1-10) 4\n",
      "Which row should the ship start on? (1-10) 4\n",
      "Will the Destroyer  (2) be placed vertical or horizontal? (V/H) B\n"
     ]
    },
    {
     "name": "stdout",
     "output_type": "stream",
     "text": [
      "Player 2 Ship Placement\n"
     ]
    },
    {
     "name": "stdin",
     "output_type": "stream",
     "text": [
      "Will the  Carrier   (5) be placed vertical or horizontal? (V/H) V\n",
      "Which column will the ship be placed in? (1-10) 1\n",
      "Which row should the ship start on? (1-10) 1\n",
      "Will the Battleship (4) be placed vertical or horizontal? (V/H) V\n",
      "Which column will the ship be placed in? (1-10) 2\n",
      "Which row should the ship start on? (1-10) 2\n",
      "Will the  Cruiser   (3) be placed vertical or horizontal? (V/H) V\n",
      "Which column will the ship be placed in? (1-10) 3\n",
      "Which row should the ship start on? (1-10) 3\n",
      "Will the Submarine  (3) be placed vertical or horizontal? (V/H) V\n",
      "Which column will the ship be placed in? (1-10) 4\n",
      "Which row should the ship start on? (1-10) 4\n",
      "Will the Destroyer  (2) be placed vertical or horizontal? (V/H) V\n",
      "Which column will the ship be placed in? (1-10) 5\n",
      "Which row should the ship start on? (1-10) 5\n"
     ]
    },
    {
     "name": "stdout",
     "output_type": "stream",
     "text": [
      "Current player is Player 1 \n",
      " Your board:\n",
      "[' Carrier  ', '          ', '          ', '          ', '          ', '          ', '          ', '          ', '          ', '          ']\n",
      "[' Carrier  ', 'Battleship', '          ', '          ', '          ', '          ', '          ', '          ', '          ', '          ']\n",
      "[' Carrier  ', 'Battleship', ' Cruiser  ', '          ', '          ', '          ', '          ', '          ', '          ', '          ']\n",
      "[' Carrier  ', 'Battleship', ' Cruiser  ', 'Submarine ', '          ', '          ', '          ', '          ', '          ', '          ']\n",
      "[' Carrier  ', 'Battleship', ' Cruiser  ', 'Submarine ', '          ', '          ', '          ', '          ', '          ', '          ']\n",
      "['          ', '          ', '          ', 'Submarine ', '          ', '          ', '          ', '          ', '          ', '          ']\n",
      "['          ', '          ', '          ', '          ', '          ', '          ', '          ', '          ', '          ', '          ']\n",
      "['          ', '          ', '          ', '          ', '          ', '          ', '          ', '          ', '          ', '          ']\n",
      "['          ', '          ', '          ', '          ', '          ', '          ', '          ', '          ', '          ', '          ']\n",
      "['          ', '          ', '          ', '          ', '          ', '          ', '          ', '          ', '          ', '          ']\n"
     ]
    },
    {
     "name": "stdin",
     "output_type": "stream",
     "text": [
      "Please enter an opponents row to attack 1\n",
      "Please enter an opponents column to attack 1\n"
     ]
    },
    {
     "name": "stdout",
     "output_type": "stream",
     "text": [
      "Hit\n",
      "------------------------------------\n",
      "Current player is Player 2 \n",
      " Your board:\n",
      "['----XX----', '          ', '          ', '          ', '          ', '          ', '          ', '          ', '          ', '          ']\n",
      "[' Carrier  ', 'Battleship', '          ', '          ', '          ', '          ', '          ', '          ', '          ', '          ']\n",
      "[' Carrier  ', 'Battleship', ' Cruiser  ', '          ', '          ', '          ', '          ', '          ', '          ', '          ']\n",
      "[' Carrier  ', 'Battleship', ' Cruiser  ', 'Submarine ', '          ', '          ', '          ', '          ', '          ', '          ']\n",
      "[' Carrier  ', 'Battleship', ' Cruiser  ', 'Submarine ', 'Destroyer ', '          ', '          ', '          ', '          ', '          ']\n",
      "['          ', '          ', '          ', 'Submarine ', 'Destroyer ', '          ', '          ', '          ', '          ', '          ']\n",
      "['          ', '          ', '          ', '          ', '          ', '          ', '          ', '          ', '          ', '          ']\n",
      "['          ', '          ', '          ', '          ', '          ', '          ', '          ', '          ', '          ', '          ']\n",
      "['          ', '          ', '          ', '          ', '          ', '          ', '          ', '          ', '          ', '          ']\n",
      "['          ', '          ', '          ', '          ', '          ', '          ', '          ', '          ', '          ', '          ']\n"
     ]
    }
   ],
   "source": [
    "#creating two players\n",
    "player1 = Player(\"1\")\n",
    "player2 = Player(\"2\")\n",
    "#creating game manager to handle game logic\n",
    "gm = GameManager()\n",
    "#variables to check if stages of game have been completed\n",
    "playerWon = False\n",
    "shipsPlaced = False\n",
    "\n",
    "while not playerWon:\n",
    "    while not shipsPlaced:\n",
    "        gm.allShipPlacement(gm.currentPlayer)\n",
    "        if len(player1.ships) == 5 and len(player2.ships) == 5:\n",
    "            shipsPlaced = True\n",
    "        else:\n",
    "            gm.switchPlayer()\n",
    "    gm.switchPlayer()\n",
    "    playerWon = gm.playerRound()\n",
    "print(gm.currentPlayer.name, \"has won!\")"
   ]
  },
  {
   "cell_type": "code",
   "execution_count": 127,
   "id": "a80d6159-ad3f-423a-9980-5389339e4166",
   "metadata": {},
   "outputs": [
    {
     "name": "stdout",
     "output_type": "stream",
     "text": [
      "[[None, <__main__.Ship object at 0x7f34c5d30b60>, <__main__.Ship object at 0x7f34c51e3080>, <__main__.Ship object at 0x7f34c670df10>, <__main__.Ship object at 0x7f34c5d577d0>, '          ', '          ', '          ', '          ', '          '], [None, <__main__.Ship object at 0x7f34c5d30b60>, <__main__.Ship object at 0x7f34c51e3080>, <__main__.Ship object at 0x7f34c670df10>, <__main__.Ship object at 0x7f34c5d577d0>, '          ', '          ', '          ', '          ', '          '], [<__main__.Ship object at 0x7f34c670f0b0>, <__main__.Ship object at 0x7f34c5d30b60>, <__main__.Ship object at 0x7f34c51e3080>, <__main__.Ship object at 0x7f34c670df10>, '          ', '          ', '          ', '          ', '          ', '          '], [<__main__.Ship object at 0x7f34c670f0b0>, <__main__.Ship object at 0x7f34c5d30b60>, '          ', '          ', '          ', '          ', '          ', '          ', '          ', '          '], [<__main__.Ship object at 0x7f34c670f0b0>, '          ', '          ', '          ', '          ', '          ', '          ', '          ', '          ', '          '], ['          ', '          ', '          ', '          ', '          ', '          ', '          ', '          ', '          ', '          '], ['          ', '          ', '          ', '          ', '          ', '          ', '          ', '          ', '          ', '          '], ['          ', '          ', '          ', '          ', '          ', '          ', '          ', '          ', '          ', '          '], ['          ', '          ', '          ', '          ', '          ', '          ', '          ', '          ', '          ', '          '], ['          ', '          ', '          ', '          ', '          ', '          ', '          ', '          ', '          ', '          ']]\n"
     ]
    }
   ],
   "source": [
    "print(player2.board.grid)"
   ]
  }
 ],
 "metadata": {
  "kernelspec": {
   "display_name": "Python 3 (ipykernel)",
   "language": "python",
   "name": "python3"
  },
  "language_info": {
   "codemirror_mode": {
    "name": "ipython",
    "version": 3
   },
   "file_extension": ".py",
   "mimetype": "text/x-python",
   "name": "python",
   "nbconvert_exporter": "python",
   "pygments_lexer": "ipython3",
   "version": "3.12.2"
  }
 },
 "nbformat": 4,
 "nbformat_minor": 5
}
